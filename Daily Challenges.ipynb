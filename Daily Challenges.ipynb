{
 "cells": [
  {
   "cell_type": "markdown",
   "id": "fc903273",
   "metadata": {},
   "source": [
    "# String Validation"
   ]
  },
  {
   "cell_type": "markdown",
   "id": "b4c55b8d",
   "metadata": {},
   "source": [
    "验证输入的密码：\n",
    "1. 10-12位数\n",
    "2. 收尾都是字母\n",
    "3. 不包含连续三位字母  #???"
   ]
  },
  {
   "cell_type": "markdown",
   "id": "2456614f",
   "metadata": {},
   "source": [
    "普通解法"
   ]
  },
  {
   "cell_type": "code",
   "execution_count": null,
   "id": "6fab323a",
   "metadata": {},
   "outputs": [],
   "source": [
    "p  =list(input())\n",
    "\n",
    "if not 10<= len(p)<=12:\n",
    "    print (\"Length must be between 10-12\") #Length\n",
    "else:\n",
    "    print (\"Correct Length\")\n",
    "    \n",
    "if (p[0].isalpha() and  p[-1].isalpha()):  #if not 的用法      #isalpha()用法\n",
    "    print ('1st and last characters checked') #首尾字母\n",
    "else:\n",
    "    print ('First and Last characters need to be letters')\n",
    "    "
   ]
  },
  {
   "cell_type": "markdown",
   "id": "feb077b3",
   "metadata": {},
   "source": [
    "## RegEx Regular Expression"
   ]
  },
  {
   "cell_type": "code",
   "execution_count": null,
   "id": "197304e2",
   "metadata": {},
   "outputs": [],
   "source": [
    "p= list(input())\n",
    "if "
   ]
  },
  {
   "cell_type": "markdown",
   "id": "cdecfb1c",
   "metadata": {},
   "source": [
    "## 题目：判断输入字符串：\n",
    "1. 含有数字或字母\n",
    "2. 含有数字\n",
    "3. 含有字母\n",
    "4. 含有小写字母\n",
    "5. 含有大写字母\n"
   ]
  },
  {
   "cell_type": "markdown",
   "id": "8e9eb767",
   "metadata": {},
   "source": [
    "## 解法1：用any() function\n",
    "\n",
    "The any() function returns True if any item in an iterable are true, otherwise it returns False.空list返回False.\n",
    "\n",
    "Iterable: An iterable object (list, tuple, dictionary)\n",
    "\n",
    "For dictionaries the any() function checks the keys, not the values.\n",
    "适用于某string”是否含有xxx“的问题。"
   ]
  },
  {
   "cell_type": "code",
   "execution_count": null,
   "id": "69586a85",
   "metadata": {},
   "outputs": [],
   "source": [
    "s = input()\n",
    "print (any(c.isalnum() for c in s))\n",
    "print (any(c.isalpha() for c in s))\n",
    "print (any(c.isdigit() for c in s))\n",
    "print (any(c.islower() for c in s))\n",
    "print (any(c.isupper() for c in s))"
   ]
  },
  {
   "cell_type": "markdown",
   "id": "4dd0b3b4",
   "metadata": {},
   "source": [
    "## Validating Email Addresses With a Filter"
   ]
  },
  {
   "cell_type": "markdown",
   "id": "cc4eab8d",
   "metadata": {},
   "source": [
    "要求：\n",
    "Valid email addresses must follow these rules:\n",
    "1. It must have the username@websitename.extension format type.\n",
    "2. The username can only contain letters, digits, dashes and underscores .\n",
    "3. The website name can only have letters and digits .\n",
    "4. The extension can only contain letters .\n",
    "5. The maximum length of the extension is .\n",
    "\n",
    "思路：\n",
    "1. 确认有@和.\n",
    "2. 分段username,website, extension\n",
    "3. 对每部分进行判定"
   ]
  },
  {
   "cell_type": "markdown",
   "id": "599cc9b8",
   "metadata": {},
   "source": [
    "## Filter Function\n",
    "\n",
    "Syntax: filter(function, iterable)\n",
    "用以检查iterable中是否含有满足条件的值"
   ]
  },
  {
   "cell_type": "code",
   "execution_count": null,
   "id": "0bffe6ce",
   "metadata": {},
   "outputs": [],
   "source": [
    "import re\n",
    "def email(): #--满足以下条件就是email address，用这个定义来filter\n",
    "    N = ... \n",
    "    for email in N:\n",
    "        if (len(re.findall('[@]',email))==1 and len(re.findall('[.]',email))==1):\n",
    "            username = email[:email.find('@')]\n",
    "            website = email [email.find('@')+1:email.find('.')]\n",
    "            extension = email[email.find('.')+1:]\n",
    "            print(username,'\\n',website,'\\n',extension)\n",
    "email()\n",
    "    "
   ]
  },
  {
   "cell_type": "code",
   "execution_count": null,
   "id": "88f67eeb",
   "metadata": {},
   "outputs": [],
   "source": []
  },
  {
   "cell_type": "code",
   "execution_count": null,
   "id": "b048214f",
   "metadata": {},
   "outputs": [],
   "source": []
  }
 ],
 "metadata": {
  "kernelspec": {
   "display_name": "Python 3",
   "language": "python",
   "name": "python3"
  },
  "language_info": {
   "codemirror_mode": {
    "name": "ipython",
    "version": 3
   },
   "file_extension": ".py",
   "mimetype": "text/x-python",
   "name": "python",
   "nbconvert_exporter": "python",
   "pygments_lexer": "ipython3",
   "version": "3.8.8"
  }
 },
 "nbformat": 4,
 "nbformat_minor": 5
}
